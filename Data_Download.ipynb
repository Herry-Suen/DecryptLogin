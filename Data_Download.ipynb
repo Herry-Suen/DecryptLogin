{
  "nbformat": 4,
  "nbformat_minor": 0,
  "metadata": {
    "colab": {
      "name": "Data Download.ipynb",
      "provenance": [],
      "collapsed_sections": [],
      "authorship_tag": "ABX9TyNKvus9QYS/lMiV8iLYY3uB",
      "include_colab_link": true
    },
    "kernelspec": {
      "name": "python3",
      "display_name": "Python 3"
    }
  },
  "cells": [
    {
      "cell_type": "markdown",
      "metadata": {
        "id": "view-in-github",
        "colab_type": "text"
      },
      "source": [
        "<a href=\"https://colab.research.google.com/github/Herry-Suen/DecryptLogin/blob/master/Data_Download.ipynb\" target=\"_parent\"><img src=\"https://colab.research.google.com/assets/colab-badge.svg\" alt=\"Open In Colab\"/></a>"
      ]
    },
    {
      "cell_type": "code",
      "metadata": {
        "id": "7tIL8b-TLnnv"
      },
      "source": [
        "#!/user/bin/python\r\n",
        "# -*- coding: UTF-8 -*-\r\n",
        "'''\r\n",
        "Student Name: ZHU SHASHA\r\n",
        "填写你们组员的名字\r\n",
        "\r\n",
        "'''\r\n",
        "%pip install mpl_finance\r\n",
        "\r\n",
        "\r\n",
        "import pandas as pd\r\n",
        "import numpy as np\r\n",
        "import pandas_datareader as web\r\n",
        "import os\r\n",
        "import datetime\r\n",
        "import time\r\n",
        "import matplotlib.pyplot as plt\r\n",
        "from matplotlib import ticker as mticker\r\n",
        "import warnings\r\n",
        "from pandas.core.common import SettingWithCopyWarning\r\n",
        "\r\n",
        "warnings.simplefilter(action=\"ignore\", category=SettingWithCopyWarning)\r\n",
        "\r\n",
        "\r\n",
        "\r\n",
        "\r\n",
        "\r\n",
        "\r\n",
        "\r\n"
      ],
      "execution_count": 5,
      "outputs": []
    },
    {
      "cell_type": "code",
      "metadata": {
        "colab": {
          "base_uri": "https://localhost:8080/"
        },
        "id": "GpUHNv_0Lyia",
        "outputId": "2386c632-ad6a-4911-e9dc-551d2f9a33f2"
      },
      "source": [
        ""
      ],
      "execution_count": 3,
      "outputs": [
        {
          "output_type": "stream",
          "text": [
            "Requirement already satisfied: mpl_finance in /usr/local/lib/python3.6/dist-packages (0.10.1)\n",
            "Requirement already satisfied: matplotlib in /usr/local/lib/python3.6/dist-packages (from mpl_finance) (3.2.2)\n",
            "Requirement already satisfied: python-dateutil>=2.1 in /usr/local/lib/python3.6/dist-packages (from matplotlib->mpl_finance) (2.8.1)\n",
            "Requirement already satisfied: cycler>=0.10 in /usr/local/lib/python3.6/dist-packages (from matplotlib->mpl_finance) (0.10.0)\n",
            "Requirement already satisfied: numpy>=1.11 in /usr/local/lib/python3.6/dist-packages (from matplotlib->mpl_finance) (1.18.5)\n",
            "Requirement already satisfied: pyparsing!=2.0.4,!=2.1.2,!=2.1.6,>=2.0.1 in /usr/local/lib/python3.6/dist-packages (from matplotlib->mpl_finance) (2.4.7)\n",
            "Requirement already satisfied: kiwisolver>=1.0.1 in /usr/local/lib/python3.6/dist-packages (from matplotlib->mpl_finance) (1.3.1)\n",
            "Requirement already satisfied: six>=1.5 in /usr/local/lib/python3.6/dist-packages (from python-dateutil>=2.1->matplotlib->mpl_finance) (1.15.0)\n",
            "\u001b[31mERROR: Could not find a version that satisfies the requirement pylab (from versions: none)\u001b[0m\n",
            "\u001b[31mERROR: No matching distribution found for pylab\u001b[0m\n",
            "Collecting pytalib\n",
            "  Downloading https://files.pythonhosted.org/packages/54/d9/1b5855bd678ec0ff9134c87bcb0a677df2cf9ce38e2956d4089335440d65/pytalib-0.0.2.tar.gz\n",
            "Requirement already satisfied: networkx in /usr/local/lib/python3.6/dist-packages (from pytalib) (2.5)\n",
            "Requirement already satisfied: scipy in /usr/local/lib/python3.6/dist-packages (from pytalib) (1.4.1)\n",
            "Requirement already satisfied: decorator>=4.3.0 in /usr/local/lib/python3.6/dist-packages (from networkx->pytalib) (4.4.2)\n",
            "Requirement already satisfied: numpy>=1.13.3 in /usr/local/lib/python3.6/dist-packages (from scipy->pytalib) (1.18.5)\n",
            "Building wheels for collected packages: pytalib\n",
            "  Building wheel for pytalib (setup.py) ... \u001b[?25l\u001b[?25hdone\n",
            "  Created wheel for pytalib: filename=pytalib-0.0.2-cp36-none-any.whl size=16928 sha256=80587484fbfaed666c0c46fea2fa37e1fb0cc16313126618cecf76a671b1efae\n",
            "  Stored in directory: /root/.cache/pip/wheels/93/17/20/6bedecea8148d420ed01630dc73c40b9f6e22bd80e17b20499\n",
            "Successfully built pytalib\n",
            "Installing collected packages: pytalib\n",
            "Successfully installed pytalib-0.0.2\n",
            "Collecting talib\n",
            "  Downloading https://files.pythonhosted.org/packages/1a/80/3492aa3065d7d81a6c51db78920108f84fbe19c4e2740f6bbb83d42f77a4/talib-0.1.1.tar.gz\n",
            "Building wheels for collected packages: talib\n",
            "  Building wheel for talib (setup.py) ... \u001b[?25lerror\n",
            "\u001b[31m  ERROR: Failed building wheel for talib\u001b[0m\n",
            "\u001b[?25h  Running setup.py clean for talib\n",
            "Failed to build talib\n",
            "Installing collected packages: talib\n",
            "    Running setup.py install for talib ... \u001b[?25l\u001b[?25herror\n",
            "\u001b[31mERROR: Command errored out with exit status 1: /usr/bin/python3 -u -c 'import sys, setuptools, tokenize; sys.argv[0] = '\"'\"'/tmp/pip-install-xdsx5f_r/talib/setup.py'\"'\"'; __file__='\"'\"'/tmp/pip-install-xdsx5f_r/talib/setup.py'\"'\"';f=getattr(tokenize, '\"'\"'open'\"'\"', open)(__file__);code=f.read().replace('\"'\"'\\r\\n'\"'\"', '\"'\"'\\n'\"'\"');f.close();exec(compile(code, __file__, '\"'\"'exec'\"'\"'))' install --record /tmp/pip-record-q5ydyesn/install-record.txt --single-version-externally-managed --compile Check the logs for full command output.\u001b[0m\n"
          ],
          "name": "stdout"
        }
      ]
    },
    {
      "cell_type": "code",
      "metadata": {
        "id": "-t3yXTvXLq8S"
      },
      "source": [
        "\r\n",
        "def get_today():\r\n",
        "    today = time.localtime(time.time())\r\n",
        "    today_year  = today.tm_year\r\n",
        "    today_month = today.tm_mon\r\n",
        "    today_date = today.tm_mday\r\n",
        "    today_format = datetime.datetime(today_year, today_month, today_date)\r\n",
        "    today_format = today_format.strftime('%Y%m%d') #20191001\r\n",
        "    return today_format\r\n",
        "\r\n",
        "class GetData(object):\r\n",
        "    def __init__(self,Name,Startdate,Enddate,LabelName,Datasource='yahoo'):\r\n",
        "        self.Name = Name\r\n",
        "        self.Startdate = Startdate\r\n",
        "        self.Enddate = Enddate\r\n",
        "        self.Datasource  = Datasource\r\n",
        "        self.LabelName = LabelName\r\n",
        "        New_Startdate_format = time.strptime(self.Startdate,'%Y%m%d')\r\n",
        "        New_Enddate_format = time.strptime(self.Enddate,'%Y%m%d')\r\n",
        "        New_Startdate = datetime.datetime(New_Startdate_format.tm_year,New_Startdate_format.tm_mon,New_Startdate_format.tm_mday).strftime('%m/%d/%Y')\r\n",
        "        New_Enddate = datetime.datetime(New_Enddate_format.tm_year,New_Enddate_format.tm_mon,New_Enddate_format.tm_mday).strftime('%m/%d/%Y')\r\n",
        "        self.NewStartdate = New_Startdate\r\n",
        "        self.NewEnddate = New_Enddate\r\n",
        "    def DownloadData(self):\r\n",
        "        DataInformation = web.DataReader(self.Name,self.Datasource,self.NewStartdate,self.NewEnddate)\r\n",
        "        Trade_Date_List = []\r\n",
        "        for TradeDate in range(len(DataInformation.index)):\r\n",
        "            Trade_Date_Format = time.strptime(str(DataInformation.index[TradeDate]), '%Y-%m-%d %H:%M:%S')\r\n",
        "            Trade_Date = datetime.datetime(Trade_Date_Format.tm_year, Trade_Date_Format.tm_mon,\r\n",
        "                                           Trade_Date_Format.tm_mday).strftime('%Y%m%d')\r\n",
        "            Trade_Date_List.append(Trade_Date)\r\n",
        "        Index_Trade_Date_List = []\r\n",
        "        for TradeDate in range(len(DataInformation.index)):\r\n",
        "            Index_Trade_Date_Format = time.strptime(str(DataInformation.index[TradeDate]), '%Y-%m-%d %H:%M:%S')\r\n",
        "            Index_Trade_Date = datetime.datetime(Index_Trade_Date_Format.tm_year, Index_Trade_Date_Format.tm_mon,\r\n",
        "                                           Index_Trade_Date_Format.tm_mday).strftime('%Y-%m-%d')\r\n",
        "            Index_Trade_Date_List.append(Index_Trade_Date)\r\n",
        "        DataInformation['IndexTradeDate'] = Index_Trade_Date_List\r\n",
        "        DataInformation['TradeDate'] = Trade_Date_List\r\n",
        "        DataInformation['Name'] = self.LabelName\r\n",
        "        all_columns = DataInformation.columns.tolist()\r\n",
        "\r\n",
        "        all_columns.pop(-1)\r\n",
        "        all_columns.insert(0, 'Name')\r\n",
        "        all_columns.pop(-1)\r\n",
        "        all_columns.insert(1, 'TradeDate')\r\n",
        "        all_columns.pop(-1)\r\n",
        "        all_columns.insert(2, 'IndexTradeDate')\r\n",
        "\r\n",
        "        DataInformation = DataInformation.reindex(columns = all_columns)\r\n",
        "        CurrentFilePath = GetData.SaveData(self,DataInformation)\r\n",
        "        print('Data has already been downloaded from %s'%self.Datasource , '!')\r\n",
        "        print('Information : \\n','Name : %s'%self.Name,'\\n','Columns : ',all_columns,'\\n','Total index ',len(DataInformation.index),'\\n'\r\n",
        "              ,'Saved Path in csv: ',CurrentFilePath[0],'\\n','Saved Path in excel:',CurrentFilePath[1])\r\n",
        "        return DataInformation\r\n",
        "    def GetCurrentPath(self):\r\n",
        "        CurrentFilePath = os.getcwd()\r\n",
        "        return CurrentFilePath\r\n",
        "    def SaveData(self,DataInformation):\r\n",
        "        CurrentFilePath = GetData.GetCurrentPath(self)\r\n",
        "        CurrentFilePath = CurrentFilePath + str(r'\\DataBase')\r\n",
        "        if not os.path.exists(CurrentFilePath):\r\n",
        "            os.makedirs(CurrentFilePath)\r\n",
        "        CurrentFilePath_csv = CurrentFilePath + str(r'\\Csv')\r\n",
        "        if not os.path.exists(CurrentFilePath_csv):\r\n",
        "            os.makedirs(CurrentFilePath_csv)\r\n",
        "        CurrentFilePath_excel = CurrentFilePath + str(r'\\Xlsx')\r\n",
        "        if not os.path.exists(CurrentFilePath_excel):\r\n",
        "            os.makedirs(CurrentFilePath_excel)\r\n",
        "        CurrentFilePath_csv = CurrentFilePath_csv + str(r'\\\\') + str(self.LabelName)\r\n",
        "        CurrentFilePath_csv = CurrentFilePath_csv + str(r'.csv')\r\n",
        "        CurrentFilePath_excel = CurrentFilePath_excel + str(r'\\\\')+ str(self.LabelName)\r\n",
        "        CurrentFilePath_excel = CurrentFilePath_excel + str(r'.xlsx')\r\n",
        "        DataInformation.to_csv(CurrentFilePath_csv,encoding='utf_8_sig')\r\n",
        "        DataInformation.to_excel(excel_writer=CurrentFilePath_excel, encoding='utf_8_sig')\r\n",
        "        return CurrentFilePath_csv,CurrentFilePath_excel\r\n",
        "    def ReadDataFromCsv(self,path):\r\n",
        "        DataInformation = pd.read_csv(path)\r\n",
        "        return DataInformation\r\n",
        "    def ReadDataFromExcel(self,path):\r\n",
        "        DataInformation = pd.read_excel(path)\r\n",
        "        return  DataInformation\r\n",
        "    def __str__(self):\r\n",
        "        return 'Name : '+str(self.LabelName)+'\\n'+'Start Date : '+str(self.NewStartdate)+'\\n'+'End Date : '+str(self.NewEnddate)+'\\n'+'Data Source : '+str(self.Datasource)\r\n",
        "\r\n"
      ],
      "execution_count": 6,
      "outputs": []
    },
    {
      "cell_type": "code",
      "metadata": {
        "colab": {
          "base_uri": "https://localhost:8080/"
        },
        "id": "eQfw7shjMVWS",
        "outputId": "4cc9fbdb-e690-4eb0-c41d-6ea96b775d2e"
      },
      "source": [
        "\r\n",
        "\r\n",
        "enddate = get_today() # or you can enddate = '20201212'\r\n",
        "startdate = '20140101'\r\n",
        "\r\n",
        "\r\n",
        "Portfolio_data = ['AAPL','FB','BABA','NFLX','MSFT','SPLK','SE','BILI','JD','FIVN']\r\n",
        "for data in Portfolio_data:\r\n",
        "  Portfolio = GetData(data,startdate,enddate,data,'yahoo')\r\n",
        "  DataInformation = Portfolio.DownloadData()\r\n",
        "\r\n",
        "\r\n",
        "SP = GetData('^GSPC',startdate, enddate, 'S_P500')\r\n",
        "DataInformation_SP = SP.DownloadData()\r\n"
      ],
      "execution_count": 8,
      "outputs": [
        {
          "output_type": "stream",
          "text": [
            "Data has already been downloaded from yahoo !\n",
            "Information : \n",
            " Name : AAPL \n",
            " Columns :  ['Name', 'TradeDate', 'IndexTradeDate', 'High', 'Low', 'Open', 'Close', 'Volume', 'Adj Close'] \n",
            " Total index  1752 \n",
            " Saved Path in csv:  /content\\DataBase\\Csv\\\\AAPL.csv \n",
            " Saved Path in excel: /content\\DataBase\\Xlsx\\\\AAPL.xlsx\n",
            "Data has already been downloaded from yahoo !\n",
            "Information : \n",
            " Name : FB \n",
            " Columns :  ['Name', 'TradeDate', 'IndexTradeDate', 'High', 'Low', 'Open', 'Close', 'Volume', 'Adj Close'] \n",
            " Total index  1752 \n",
            " Saved Path in csv:  /content\\DataBase\\Csv\\\\FB.csv \n",
            " Saved Path in excel: /content\\DataBase\\Xlsx\\\\FB.xlsx\n",
            "Data has already been downloaded from yahoo !\n",
            "Information : \n",
            " Name : BABA \n",
            " Columns :  ['Name', 'TradeDate', 'IndexTradeDate', 'High', 'Low', 'Open', 'Close', 'Volume', 'Adj Close'] \n",
            " Total index  1572 \n",
            " Saved Path in csv:  /content\\DataBase\\Csv\\\\BABA.csv \n",
            " Saved Path in excel: /content\\DataBase\\Xlsx\\\\BABA.xlsx\n",
            "Data has already been downloaded from yahoo !\n",
            "Information : \n",
            " Name : NFLX \n",
            " Columns :  ['Name', 'TradeDate', 'IndexTradeDate', 'High', 'Low', 'Open', 'Close', 'Volume', 'Adj Close'] \n",
            " Total index  1752 \n",
            " Saved Path in csv:  /content\\DataBase\\Csv\\\\NFLX.csv \n",
            " Saved Path in excel: /content\\DataBase\\Xlsx\\\\NFLX.xlsx\n",
            "Data has already been downloaded from yahoo !\n",
            "Information : \n",
            " Name : MSFT \n",
            " Columns :  ['Name', 'TradeDate', 'IndexTradeDate', 'High', 'Low', 'Open', 'Close', 'Volume', 'Adj Close'] \n",
            " Total index  1752 \n",
            " Saved Path in csv:  /content\\DataBase\\Csv\\\\MSFT.csv \n",
            " Saved Path in excel: /content\\DataBase\\Xlsx\\\\MSFT.xlsx\n",
            "Data has already been downloaded from yahoo !\n",
            "Information : \n",
            " Name : SPLK \n",
            " Columns :  ['Name', 'TradeDate', 'IndexTradeDate', 'High', 'Low', 'Open', 'Close', 'Volume', 'Adj Close'] \n",
            " Total index  1752 \n",
            " Saved Path in csv:  /content\\DataBase\\Csv\\\\SPLK.csv \n",
            " Saved Path in excel: /content\\DataBase\\Xlsx\\\\SPLK.xlsx\n",
            "Data has already been downloaded from yahoo !\n",
            "Information : \n",
            " Name : SE \n",
            " Columns :  ['Name', 'TradeDate', 'IndexTradeDate', 'High', 'Low', 'Open', 'Close', 'Volume', 'Adj Close'] \n",
            " Total index  794 \n",
            " Saved Path in csv:  /content\\DataBase\\Csv\\\\SE.csv \n",
            " Saved Path in excel: /content\\DataBase\\Xlsx\\\\SE.xlsx\n",
            "Data has already been downloaded from yahoo !\n",
            "Information : \n",
            " Name : BILI \n",
            " Columns :  ['Name', 'TradeDate', 'IndexTradeDate', 'High', 'Low', 'Open', 'Close', 'Volume', 'Adj Close'] \n",
            " Total index  686 \n",
            " Saved Path in csv:  /content\\DataBase\\Csv\\\\BILI.csv \n",
            " Saved Path in excel: /content\\DataBase\\Xlsx\\\\BILI.xlsx\n",
            "Data has already been downloaded from yahoo !\n",
            "Information : \n",
            " Name : PDD \n",
            " Columns :  ['Name', 'TradeDate', 'IndexTradeDate', 'High', 'Low', 'Open', 'Close', 'Volume', 'Adj Close'] \n",
            " Total index  603 \n",
            " Saved Path in csv:  /content\\DataBase\\Csv\\\\PDD.csv \n",
            " Saved Path in excel: /content\\DataBase\\Xlsx\\\\PDD.xlsx\n",
            "Data has already been downloaded from yahoo !\n",
            "Information : \n",
            " Name : FIVN \n",
            " Columns :  ['Name', 'TradeDate', 'IndexTradeDate', 'High', 'Low', 'Open', 'Close', 'Volume', 'Adj Close'] \n",
            " Total index  1688 \n",
            " Saved Path in csv:  /content\\DataBase\\Csv\\\\FIVN.csv \n",
            " Saved Path in excel: /content\\DataBase\\Xlsx\\\\FIVN.xlsx\n",
            "Data has already been downloaded from yahoo !\n",
            "Information : \n",
            " Name : ^GSPC \n",
            " Columns :  ['Name', 'TradeDate', 'IndexTradeDate', 'High', 'Low', 'Open', 'Close', 'Volume', 'Adj Close'] \n",
            " Total index  1752 \n",
            " Saved Path in csv:  /content\\DataBase\\Csv\\\\S_P500.csv \n",
            " Saved Path in excel: /content\\DataBase\\Xlsx\\\\S_P500.xlsx\n"
          ],
          "name": "stdout"
        }
      ]
    },
    {
      "cell_type": "markdown",
      "metadata": {
        "id": "9ArMVnvZNa8N"
      },
      "source": [
        "# New Section"
      ]
    },
    {
      "cell_type": "markdown",
      "metadata": {
        "id": "dWBzCHXaNbUc"
      },
      "source": [
        "# New Section"
      ]
    }
  ]
}